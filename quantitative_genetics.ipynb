{
 "cells": [
  {
   "cell_type": "markdown",
   "metadata": {},
   "source": [
    "### The Effects of Truncation Selection on the Variance of Polygenic Metric Traits\n",
    "\n",
    "#### Brett Olsen\n",
    "#### Washington University in St. Louis"
   ]
  },
  {
   "cell_type": "markdown",
   "metadata": {},
   "source": [
    "Classical quantitative genetics deals largely with traits which vary continuously rather than discretely, such as milk production in cows, birth-weight in mice, or height in humans.\n",
    "For discrete traits, we can often identify the gene or genes which contribute to the observed phenotypes, characterize the properties of different genotypes, and rigorously examine the effects of selection, drift, etc. on the population.\n",
    "For continuous traits we often cannot make a rigorous identification of all contributors to the trait, whether they be environmental variance (such as the effect of soil fertility on plant height), stochastic, or multiple genes contributing in additive or non-additive ways.\n",
    "Instead, we can isolate the fraction of the variance of a population that results from additive genetic effects, the narrow-sense heritability $h^2$, by measuring the response of the trait to selection.\n",
    "We take the parent population, restrict it to some number of individuals of high or low values of the trait, and use those parents to sire the next generation.\n",
    "The response to selection - the average trait value of the second generation - is governed by the breeder's equation:\n",
    "\n",
    "\\begin{equation}\n",
    "    R = h^2 S\n",
    "\\end{equation}\n",
    "\n",
    "where $S$ is the selection differential, the difference between the average trait value of the whole parental population and the average trait value of the individuals chosen to produce the child generation, $h^2$ is the narrow-sense heritability, and $R$ is the response to selection - the difference between the mean value of the parental and child generations.\n",
    "This equation can be used retrospectively to estimate the heritability of a trait, or prospectively, to predict the response to given selective pressures where $h^2$ is known from other experiments.\n",
    "For example, suppose we have a normally distributed trait where $h^2$ is known to be 0.8 from analysis of relatives (*e.g.* trait correlations between twins, parent/child, half-sibs, or full-sibs).\n",
    "If we take a parental population with mean 0.0 and standard deviation 1.0 and choose only the 10% of individuals with the highest trait value to produce the child generation, we expect the child population to be shifted to a higher mean:"
   ]
  },
  {
   "cell_type": "code",
   "execution_count": 2,
   "metadata": {
    "collapsed": false
   },
   "outputs": [],
   "source": [
    "%matplotlib inline"
   ]
  },
  {
   "cell_type": "code",
   "execution_count": 3,
   "metadata": {
    "collapsed": false
   },
   "outputs": [],
   "source": [
    "import numpy as np\n",
    "import matplotlib.pyplot as plt\n",
    "from scipy import stats\n",
    "import scipy\n",
    "from __future__ import division"
   ]
  },
  {
   "cell_type": "code",
   "execution_count": 4,
   "metadata": {
    "collapsed": false
   },
   "outputs": [
    {
     "name": "stdout",
     "output_type": "stream",
     "text": [
      "1.28155156554\n"
     ]
    },
    {
     "data": {
      "image/png": "[encoded data removed]",
      "text/plain": [
       "<matplotlib.figure.Figure at 0x10f5d4a50>"
      ]
     },
     "metadata": {},
     "output_type": "display_data"
    }
   ],
   "source": [
    "plt.figure(figsize=(6, 4))\n",
    "xvals = np.arange(-3, 3, 0.001)\n",
    "cutoff = stats.norm.ppf(0.90)\n",
    "plt.fill_between(xvals, 0, stats.norm.pdf(xvals), color='k', alpha=0.2)\n",
    "plt.fill_between(xvals[xvals > cutoff], 0, \n",
    "                 stats.norm.pdf(xvals[xvals > cutoff]), color='r', alpha=0.3)\n",
    "plt.xlabel('Trait Value')\n",
    "plt.ylabel('Likelihood')\n",
    "plt.yticks([])\n",
    "plt.title('Selection from a standard normal (top 10%)')\n",
    "print cutoff"
   ]
  },
  {
   "cell_type": "code",
   "execution_count": 5,
   "metadata": {
    "collapsed": false
   },
   "outputs": [
    {
     "name": "stdout",
     "output_type": "stream",
     "text": [
      "1.75498331932 0.169135169277 0.830864830723\n",
      "1.40398665546\n"
     ]
    }
   ],
   "source": [
    "h2 = 0.8\n",
    "parent_mean, parent_var = stats.truncnorm.stats(cutoff, 20, loc=0, scale=1)\n",
    "print parent_mean, parent_var, 1.0 - parent_var\n",
    "newmean = h2 * parent_mean\n",
    "print newmean"
   ]
  },
  {
   "cell_type": "markdown",
   "metadata": {},
   "source": [
    "Selection of the top 10% of a normally distributed population corresponds to selecting those parents 1.28 standard deviations or more above the initial population mean.\n",
    "These selected parents are distributed non-normally, instead as a truncated normal distribution with a long positive tail, and with a population mean of 1.75 and population standard deviation of 0.41, as measured in standard deviations of the initial population.\n",
    "The difference between the selected parents and the initial population (1.75 - 0) gives us $S=1.75$, and with $h^2$ known *a priori* to be 0.8, we calculate response to selection to be $R = S h^2 = 1.40$, or in other words, that the child generation will have a mean trait value 1.4 standard deviations larger than that of the initial population.\n",
    "\n",
    "This response of the mean trait value to selection has been well understood for many years and used widely.\n",
    "However, the mean value of the new child population underdescribes the population distribution.\n",
    "We might assume, given random mating between the selected parents, that the new child population will have the trait of interest distributed approximately normally.\n",
    "Even with this assumption, we still do not know the variance of the new population.\n",
    "There have been several approaches on how to estimate the variance of a population under selection.\n",
    "\n",
    "One approach, used implicitly by Harpending & Cochran (2013) in their work on assortative mating, relates the change in variance of the selected parental population and the child population using the narrow sense heritability, similarly to use of the breeder's equation on population means:\n",
    "\n",
    "\\begin{equation}\n",
    "\\sigma_1^2 = \\sigma_0^2 + \\Delta_{\\sigma^2} h^2\n",
    "\\end{equation}\n",
    "\n",
    "That is, the variance of the child population is equal to the variance of the (unselected) parent population plus the change in the variance of the caused by selection, scaled by the narrow-sense heritability.\n",
    "Using this model, the selected group of parents have a (much reduced) variance of 0.169, giving a $\\Delta_{\\sigma^2} = -0.83$.\n",
    "Therefore, the variance of the child population can be estimated as $1.0 - 0.83 * 0.8 = 0.335$, or a standard deviation of 0.579.\n",
    "Unfortunately, this approach does not provide the correct answer - these large reductions in variance are not observed, and are implicitly dependent on a (wrong) blending model of inheritance, under which additive genetic variance in breeding populations would quickly be reduced to zero.\n",
    "\n",
    "We will consider two effects that can change the population variance under truncation selection:  changes in gene frequency, and changes in disequilibrium."
   ]
  },
  {
   "cell_type": "markdown",
   "metadata": {},
   "source": [
    "### Gene Frequency Effects on Variance\n",
    "\n",
    "Suppose for the sake of simplicity we have a population of haploid organisms with a particular metric trait of interest, with mean value $\\mu$ and variance $V$.\n",
    "The total phenotypic variance of this trait $V$ can be split into genetic and environmental components $V_G$ and $V_E$, so that\n",
    "\n",
    "$V = V_G + V_E.$\n",
    "\n",
    "We will assume that there are no epistatic contributions to the genetic variance, that is, that there are no gene-gene interactions.\n",
    "Because the organisms are haploid rather than diploid, we can also ignore dominance contributions to the genetic variance.\n",
    "In this case, the genetic variance will be controlled by the additive genetic variance $V_A$,\n",
    "\n",
    "$V = V_A + V_E.$\n",
    "\n",
    "The narrow-sense heritability of the trait $h^2$ is then simply the ratio of the additive genetic to total variance:\n",
    "\n",
    "$h^2 = \\frac{V_A}{V}.$\n",
    "\n",
    "Suppose that this trait is controlled by $N$ genes, with each gene having either a negative or a positive allele, with the initial prevalence of the positive allele for each trait being $p_i$.\n",
    "The variance in each gene then contributes some fraction $f_i$ of the phenotypic variance of the trait, where\n",
    "\n",
    "$\\sum_{i=1}^N f_i = h^2.$\n",
    "\n",
    "If we then perform a threshold selection, restricting the parents of the next generation to those above some threshold $t$, what will be the new prevalence $p_i^{'}$ of this gene in the next generation?\n",
    "\n",
    "Let us examine the distribution of trait values ignoring the effect of gene $i$. \n",
    "This distribution would still be approximately normally distributed, but with a slightly smaller variance, equal to\n",
    "\n",
    "$V_{not \\; i} = V(1 - f_i).$\n",
    "\n",
    "Gene $i$ itself has a variance of $V f_i$, but it is *not* normally distributed, but is instead bimodal, with one positive and one negative allele.\n",
    "We'll call the additive effect of the positive versus negative allele $D$; that is, the positive allele contributes a value of $D$ to the value of the trait.\n",
    "We can then calculate $D$ in terms of $V$, $f_i$ and $p_i$:\n",
    "\n",
    "$D = \\sqrt{\\frac{V f_i}{p_i(1-p_i)}}.$\n",
    "\n",
    "Let us plot the distribution of trait values in the absence of gene $i$.  \n"
   ]
  },
  {
   "cell_type": "code",
   "execution_count": 6,
   "metadata": {
    "collapsed": false
   },
   "outputs": [
    {
     "data": {
      "text/plain": [
       "<matplotlib.text.Text at 0x10f795650>"
      ]
     },
     "execution_count": 6,
     "metadata": {},
     "output_type": "execute_result"
    },
    {
     "data": {
      "image/png": "[encoded data removed]",
      "text/plain": [
       "<matplotlib.figure.Figure at 0x10f6e50d0>"
      ]
     },
     "metadata": {},
     "output_type": "display_data"
    }
   ],
   "source": [
    "#Use a standard normal distribution\n",
    "V = 1.0\n",
    "mu = 0.0\n",
    "\n",
    "f = 1 / 1000\n",
    "p = 0.25\n",
    "\n",
    "rv = stats.norm(loc=mu, scale=(1-f)*V)\n",
    "\n",
    "D = np.sqrt((V * f)/(p * (1 - p)))\n",
    "\n",
    "plt.figure(figsize=(8, 4))\n",
    "xvals = np.arange(-3, 3, 0.001)\n",
    "\n",
    "#Threshold value for removal of bottom 10% of the population\n",
    "frac_removed = 0.10\n",
    "t = stats.norm.ppf(0.10) #Not quite exact - this is based on the normal distribution\n",
    "\n",
    "\n",
    "plt.fill_between(xvals, 0, rv.pdf(xvals), color='k', alpha=0.2)\n",
    "plt.fill_between(xvals[xvals > t], 0, \n",
    "                 rv.pdf(xvals[xvals > t]), color='r', alpha=0.3)\n",
    "plt.fill_between(xvals[(t-D < xvals) & (xvals < t)], 0,\n",
    "                 rv.pdf(xvals[(t-D < xvals) & (xvals < t)]), color='m', alpha=0.3)\n",
    "\n",
    "plt.plot([t, t], [0, rv.pdf(t)], ':k')\n",
    "plt.plot([t-D, t-D], [0, rv.pdf(t-D)], ':k')\n",
    "\n",
    "plt.xlabel('Trait Value')\n",
    "plt.ylabel('Likelihood')\n",
    "plt.yticks([])\n",
    "plt.title('')"
   ]
  },
  {
   "cell_type": "markdown",
   "metadata": {},
   "source": [
    "Individuals with trait values $x > t$ (in red) will always fall above the threshold regardless of the effect of gene $i$, while those with trait values $x < t-D$ (in grey) will always fall below the threshold regardless of gene $i$.\n",
    "For those with intermediate values (in magenta), their inclusion in the reproducing population above the threshold $t$ depends on the their allele at gene $i$ - they will be included if and only if they have the positive allele.\n",
    "This means that the reproducing population will include the red region (where $p_i$ fraction of individuals have the positive allele at gene $i$) and part of the magenta region (where only $p_i$ fraction of individuals will be included, but all those included will have the positive allele).\n",
    "Thus, $p_i'$, the prevalence of the positive allele after selection, will go up slightly.\n",
    "Assuming that the distribution of trait values in the absence of gene $i$ is approximately normal, then we can calculate the new prevalence $p_i'$ of the positive allele above the threshold $t$ as:\n",
    "\n",
    "\\begin{equation}\n",
    "p_i' = \\frac{p_i \\int_{t-D}^{\\infty}e^{\\frac{-(x-\\mu)^2}{2V(1-f)}}dx}\n",
    "            {\\int_{t}^{\\infty}e^{\\frac{-(x-\\mu)^2}{2V(1-f)}}dx + p_i \\int_{t-D}^{t}e^{\\frac{-(x-\\mu)^2}{2V(1-f)}}dx}\n",
    "\\end{equation}\n",
    "\n",
    "or\n",
    "\n",
    "\\begin{equation}\n",
    "p_i' = \\frac{p_i \\int_{t-D}^{\\infty}e^{\\frac{-(x-\\mu)^2}{2V(1-f)}}dx}\n",
    "            {(1-p_i)\\int_{t}^{\\infty}e^{\\frac{-(x-\\mu)^2}{2V(1-f)}}dx + p_i \\int_{t-D}^{\\infty}e^{\\frac{-(x-\\mu)^2}{2V(1-f)}}dx}\n",
    "\\end{equation}"
   ]
  },
  {
   "cell_type": "code",
   "execution_count": 7,
   "metadata": {
    "collapsed": false
   },
   "outputs": [],
   "source": [
    "def refine_threshold(p, f, frac_lost, V=1, mu=0, epsilon=1e-15):\n",
    "    rv = stats.norm(loc=mu, scale=V * (1 - f))\n",
    "    t = rv.ppf(frac_lost)\n",
    "    D = np.sqrt((V * f) / (p * (1 - p)))\n",
    "    #Note that t isn't exact yet, because we've removed this gene from the distribution and it's not normal.\n",
    "    #We'll use this as a starting point and binary search to identify it such that\n",
    "    #p * low + (1 - p) * hi = 1 - frac_lost\n",
    "    def calc_kept(t):\n",
    "        return p * rv.sf(t-D) + (1 - p) * rv.sf(t)\n",
    "    \n",
    "    if t < 0:\n",
    "        upper, lower = 0.0, 2 * t\n",
    "    elif t > 0:\n",
    "        upper, lower = 2 * t, 0.0\n",
    "    else:\n",
    "        upper, lower = 0.1, -0.1\n",
    "    \n",
    "    while calc_kept(lower) - calc_kept(upper) > epsilon:\n",
    "        mid = (upper + lower) / 2\n",
    "        if calc_kept(mid) <= 1 - frac_lost:\n",
    "            upper = mid\n",
    "        else:\n",
    "            lower = mid\n",
    "    return mid   \n",
    "\n",
    "def update_prevalence(p, f, frac_lost, V=1, mu=0):\n",
    "    D = np.sqrt((V * f)/(p * (1 - p)))\n",
    "    rv = stats.norm(loc=mu, scale=V * (1 - f))\n",
    "    t = refine_threshold(p, f, frac_lost, V, mu)\n",
    "    low = rv.sf(t - D)\n",
    "    hi = rv.sf(t)\n",
    "    return p * low / (p * low + (1 - p) * hi)"
   ]
  },
  {
   "cell_type": "code",
   "execution_count": 8,
   "metadata": {
    "collapsed": false
   },
   "outputs": [
    {
     "name": "stdout",
     "output_type": "stream",
     "text": [
      "0.500975018597\n"
     ]
    }
   ],
   "source": [
    "#print refine_threshold(0.5, 1/10000, 0.1, 1, 0)\n",
    "p_new = update_prevalence(0.5, 1/10000, 0.1)\n",
    "print p_new"
   ]
  },
  {
   "cell_type": "markdown",
   "metadata": {},
   "source": [
    "Note that these changes in positive allele frequency are independent of the heritability - as long as the remaining variance is independent of this gene, it doesn't matter whether it's due to additive genetics, non-additive genetics, or environment.\n",
    "\n",
    "We can also represent this change in terms of a selection coefficient - individuals with the positive allele at gene $i$ are slightly more likely to be included in the reproducing population:"
   ]
  },
  {
   "cell_type": "code",
   "execution_count": 9,
   "metadata": {
    "collapsed": false
   },
   "outputs": [
    {
     "name": "stdout",
     "output_type": "stream",
     "text": [
      "0.0122606554628\n",
      "0.0123327656548\n"
     ]
    }
   ],
   "source": [
    "V = 1.0\n",
    "p = 0.5\n",
    "f = 1 / 1000\n",
    "D = np.sqrt((V * f)/(p * (1 - p)))\n",
    "\n",
    "t = refine_threshold(p, f, 0.1)\n",
    "rv = stats.norm(loc=mu, scale=V * (1 - f))\n",
    "neg, pos = rv.sf(t), rv.sf(t-D)\n",
    "print 1 - neg / pos #Exact s calculated from normal distributions\n",
    "\n",
    "t = stats.norm.ppf(0.1)\n",
    "i = stats.truncnorm.stats(t, 20, loc=mu, scale=V)[0]\n",
    "print i * D / np.sqrt(V) #Approximate s calculated following Falconer"
   ]
  },
  {
   "cell_type": "markdown",
   "metadata": {},
   "source": [
    "We see that with small $f_i$, the change in positive allele frequency is quite small, corresponding to a low selection coefficient.  We can also look at the change in variance: $D_i$ remains unchanged, so the new variance associated with gene $i$ is $D^2 p_i' (1-p_i')$.  This will be a reduction in variance if $p_i$ moves away from 0.5 (i.e., if $p_i > 0.5$) and an increase in variance if $p_i$ moves closer to 0.5 (i.e., if $p_i < 0.5$).\n",
    "\n",
    "We can write the change in variance due to selection on gene $i$ as:\n",
    "\n",
    "\\begin{equation}\n",
    "V_i' = V_i \\frac{\\int_t^{\\infty}e^{\\frac{-(x-\\mu)^2}{2V(1-f)}}dx \\int_{t-D_i}^{\\infty}e^{\\frac{-(x-\\mu)^2}{2V(1-f)}}dx}\n",
    "                 {(q_i \\int_t^{\\infty}e^{\\frac{-(x-\\mu)^2}{2V(1-f)}}dx + p_i \\int_{t-D_i}^{\\infty}e^{\\frac{-(x-\\mu)^2}{2V(1-f)}}dx)^2}  \n",
    "\\end{equation}\n",
    "\n",
    "If we look at the Fisherian limits, where each gene contributes only infinitesimally to the total variance, i.e., $f \\rightarrow 0$ and $D \\rightarrow 0$, we see that the fractional term tends towards 1, i.e., no change in additive variance from gene frequency changes with truncation selection, in agreement with earlier results (see, e.g., Falconer 1996, pg. 199-201).\n",
    "While theoretically an exact estimate of the change in variance is possible, it requires knowledge of the fractional additive variance and prevalence for each gene associated with the trait, something quite hard to come by for most polygenic metric traits.\n",
    "For all practical purposes, however, this effect on variance can be ignored."
   ]
  },
  {
   "cell_type": "code",
   "execution_count": 10,
   "metadata": {
    "collapsed": false
   },
   "outputs": [],
   "source": [
    "def delta_V(f, p, frac_lost, V=1, mu=0):\n",
    "    #Calculate the ratio of the new fractional variance of gene $i$ to the old fractional variance\n",
    "    t = refine_threshold(p, f, frac_lost)\n",
    "    rv = stats.norm(loc=mu, scale=V * (1 - f))\n",
    "    D = np.sqrt(V * f / (p * (1 - p)))\n",
    "    low = rv.sf(t-D)\n",
    "    high = rv.sf(t)\n",
    "    return low * high / ((1 - p) * high + p * low)**2"
   ]
  },
  {
   "cell_type": "code",
   "execution_count": 11,
   "metadata": {
    "collapsed": false
   },
   "outputs": [
    {
     "name": "stdout",
     "output_type": "stream",
     "text": [
      "1000 genes, 0.10 fraction lost in a generation\n",
      "Old Variance: 1.0000\n",
      "New Variance: 0.9932\n",
      "Old h^2: 0.8000\n",
      "New h^2: 0.7986\n"
     ]
    }
   ],
   "source": [
    "N = 1000 #Number of genes\n",
    "h2 = 0.8 #Heritability\n",
    "V = 1 #Phenotypic variance\n",
    "mu = 0\n",
    "\n",
    "frac_lost = 0.1\n",
    "\n",
    "f = (h2) / N #Assume each gene has the same fractional effect\n",
    "p = 0.8 #Assume each gene has the same prevalence (note that this maximizes the possible change in variance)\n",
    "\n",
    "newV = V * (1 - h2) + delta_V(f, p, frac_lost, V, mu) * f * N\n",
    "newh2 = delta_V(f, p, frac_lost, V, mu) * f * N / newV\n",
    "\n",
    "print '%i genes, %.2f fraction lost in a generation' % (N, frac_lost)\n",
    "\n",
    "print 'Old Variance: %.4f' % V\n",
    "print 'New Variance: %.4f' % newV\n",
    "print 'Old h^2: %.4f' % h2\n",
    "print 'New h^2: %.4f' % newh2"
   ]
  },
  {
   "cell_type": "markdown",
   "metadata": {},
   "source": [
    "#### Approximation method with a binomial model\n",
    "\n",
    "Rather than directly integrating normal distributions, we can use a binomial approximation to estimate changes in gene frequency, heritability, and phenotypic variance due to truncation selection from gene frequency changes.\n",
    "Suppose we have some gene $i$ which controls some fraction $f_i$ of the variance of the trait.\n",
    "We can model changes in the gene frequency of this particular gene by constructing a binomial distribution with $N_i = \\frac{1}{f_i}$ copies of the gene and identical positive allele prevalence $p_i$ for each copy.\n",
    "The mean value of this distribution is then $\\mu_i = N_i D_i p_i = \\frac{D_i p_i}{f_i}$, with variance $\\sigma_i^2 = \\frac{D_i^2 p_i (1 - p_i)}{f_i}$.\n",
    "If $f_i$ is small enough, we can approximate this binomial distribution with a normal distribution and find the mean cumulative value after trunction selection of some fraction of the population by integration with some threshold $t$:\n",
    "\n",
    "$\\mu_i' = \\int_{t}^{\\infty} e^{\\frac{-(x-\\mu_i)^2}{2\\sigma_i^2}} dx$ where $t$ solves the equation\n",
    "\n",
    "$F = \\int_{t}^{\\infty} e^{\\frac{-(x-\\mu_i)^2}{2\\sigma_i^2}} x\\;dx$, where $F$ is the fraction of the population to be retained.\n",
    "\n",
    "We can represent this with the intensity of selection $i_F=\\frac{\\mu_i' - \\mu_i}{\\sigma_i}$, equal to the number of standard deviations difference between the unselected and selected populations, which can be looked up easily in a table or using simple calculations for truncation selection on a normal distribution.\n",
    "After selection, in order to produce the new mean $\\mu_i'$, the positive allele frequency must have changed such that $p_i' = \\frac{\\mu_i' f_i}{ D_i}$.\n",
    "So the change in gene frequency is:\n",
    "\n",
    "$p_i' - p_i = \\frac{(\\mu_i' - \\mu_i) f_i}{D_i}$.\n",
    "\n",
    "$D_i$ is related to the original standard deviation of the population:\n",
    "\n",
    "$D_i = \\sigma_i \\sqrt{\\frac{f_i}{p_i (1 - p_i}}$, so we can rewrite the change in gene frequency as\n",
    "\n",
    "$p_i' - p_i = i_F \\sqrt{f_i p_i (1 - p_i)}$.\n",
    "\n",
    "This calculation is based on the model of a large number of identical genes responding identically to selection, but as I discussed earlier, the change in gene frequency for any one gene is not dependent on how the remainder of the variance is distributed, whether additive genetics, non-additive genetics, or environmental components, so this result for a single gene should be extensible no matter how the remaining variance is constituted, as long as the distribution is still approximately normal.\n",
    "\n",
    "Let's compare with the more exact approach:"
   ]
  },
  {
   "cell_type": "code",
   "execution_count": 12,
   "metadata": {
    "collapsed": false
   },
   "outputs": [
    {
     "name": "stdout",
     "output_type": "stream",
     "text": [
      "0.531397618728\n",
      "0.530831914137\n"
     ]
    }
   ],
   "source": [
    "def update_prevalence_approx(p, f, frac_lost, V=1, mu=0):\n",
    "    t = stats.norm.ppf(frac_lost, loc=0, scale=1)\n",
    "    i_F = stats.truncnorm.stats(t, 20, loc=0, scale=1)[0]\n",
    "    return p + i_F * np.sqrt(f * p * (1 - p))\n",
    "\n",
    "p = 0.5\n",
    "f = 1 / 10\n",
    "frac_lost = 0.1\n",
    "print update_prevalence(p, f, frac_lost)\n",
    "print update_prevalence_approx(p, f, frac_lost)"
   ]
  },
  {
   "cell_type": "markdown",
   "metadata": {},
   "source": [
    "##### Gene disequilibrium effects on population variance\n",
    "\n",
    "Suppose we start off with a population where positive alleles between genes are uncorrelated:  for two genes $i$ and $j$ with positive allele prevalence $p_i$ and $p_j$, the likelihood of each genotype is $L_{++} = p_i p_j$ for both positive, $L_{--} = q_i q_j$ for both negative, and $L_{+-} = p_i q_j$ and $L_{-+} = q_i p_j$ for the two mixed possibilities.\n",
    "The phenotypes associated with these have additive effects $0$ for both genes negative, $D_i + D_j$ for both genes positive, and $D_i$ or $D_j$ for only one gene positive.\n",
    "\n",
    "We can examine the effects of selection on covariance between these genes using a similar method as that discussed above for the prevalence of a single allele.\n",
    "Examine the distribution of trait values ignoring the effects of genes $i$ and $j$, which will be approximately normally distributed with variance $V(1 - f_i - f_j)$"
   ]
  },
  {
   "cell_type": "code",
   "execution_count": 13,
   "metadata": {
    "collapsed": false
   },
   "outputs": [
    {
     "data": {
      "text/plain": [
       "(-2, 0)"
      ]
     },
     "execution_count": 13,
     "metadata": {},
     "output_type": "execute_result"
    },
    {
     "data": {
      "image/png": "[encoded data removed]",
      "text/plain": [
       "<matplotlib.figure.Figure at 0x10f8eef50>"
      ]
     },
     "metadata": {},
     "output_type": "display_data"
    }
   ],
   "source": [
    "#Use a standard normal distribution\n",
    "V = 1.0\n",
    "mu = 0.0\n",
    "\n",
    "f_i = 1 / 1000\n",
    "p_i = 0.25\n",
    "f_j = 1 / 2000\n",
    "p_j = 0.65\n",
    "\n",
    "rv = stats.norm(loc=mu, scale=(1 - f_i - f_j)*V)\n",
    "\n",
    "D_i = np.sqrt((V * f_i) / (p_i * (1 - p_i)))\n",
    "D_j = np.sqrt((V * f_j) / (p_j * (1 - p_j)))\n",
    "\n",
    "plt.figure(figsize=(8, 4))\n",
    "xvals = np.arange(-2, 3, 0.001)\n",
    "\n",
    "#Threshold value for removal of bottom 10% of the population\n",
    "frac_removed = 0.10\n",
    "t = rv.ppf(frac_removed) #Not quite exact - this is based on the normal distribution\n",
    "\n",
    "plt.fill_between(xvals, 0, rv.pdf(xvals), color='k', alpha=0.2)\n",
    "plt.fill_between(xvals[xvals > t], 0, \n",
    "                 rv.pdf(xvals[xvals > t]), color='r', alpha=0.3)\n",
    "plt.fill_between(xvals[(t-D_i < xvals) & (xvals < t)], 0,\n",
    "                 rv.pdf(xvals[(t-D_i < xvals) & (xvals < t)]), color='m', alpha=0.3)\n",
    "plt.fill_between(xvals[(t-D_j < xvals) & (xvals < t)], 0,\n",
    "                 rv.pdf(xvals[(t-D_j < xvals) & (xvals < t)]), color='g', alpha=0.3)\n",
    "plt.fill_between(xvals[(t-D_i-D_j < xvals) & (xvals < t)], 0,\n",
    "                 rv.pdf(xvals[(t-D_i-D_j < xvals) & (xvals < t)]), color='b', alpha=0.3)\n",
    "\n",
    "plt.plot([t, t], [0, rv.pdf(t)], ':k')\n",
    "plt.plot([t-D_i-D_j, t-D_i-D_j], [0, rv.pdf(t-D_i-D_j)], ':k')\n",
    "\n",
    "plt.xlabel('Trait Value')\n",
    "plt.ylabel('Likelihood')\n",
    "plt.yticks([])\n",
    "plt.title('')\n",
    "plt.xlim([-2, 0])"
   ]
  },
  {
   "cell_type": "markdown",
   "metadata": {},
   "source": [
    "Here, individuals positive for both genes will be included with residual trait values $x > t - D_i - D_j$, individuals negative for both genes will be included with residual trait values $x > t$, those only positive for gene $i$ require $x > t - D_i$ and those only positive for gene $j$ require $x > t - D_j$.\n",
    "We can integrate the normal distribution to calculate the fraction of parents with each genotype:\n",
    "\n",
    "\\begin{equation}\n",
    "T = q_i q_j \\int_{t}^{\\infty}e^{\\frac{-(x-\\mu)^2}{2V(1- f_i - f_j)}}dx + \n",
    "    p_i q_j \\int_{t-D_i}^{\\infty}e^{\\frac{-(x-\\mu)^2}{2V(1- f_i - f_j)}}dx + \n",
    "    q_i p_j \\int_{t-D_j}^{\\infty}e^{\\frac{-(x-\\mu)^2}{2V(1- f_i - f_j)}}dx + \n",
    "    p_i p_j \\int_{t-D_i-D_j}^{\\infty}e^{\\frac{-(x-\\mu)^2}{2V(1- f_i - f_j)}}dx\n",
    "\\end{equation}\n",
    "\n",
    "\\begin{equation}\n",
    "L_{++}' = \\frac{1}{T} p_i p_j \\int_{t-D_i-D_j}^{\\infty}e^{\\frac{-(x-\\mu)^2}{2V(1- f_i - f_j)}}dx\n",
    "\\end{equation}\n",
    "\n",
    "\\begin{equation}\n",
    "L_{+-}' = \\frac{1}{T} p_i q_j \\int_{t-D_i}^{\\infty}e^{\\frac{-(x-\\mu)^2}{2V(1- f_i - f_j)}}dx\n",
    "\\end{equation}\n",
    "\n",
    "\\begin{equation}\n",
    "L_{-+}' = \\frac{1}{T} q_i p_j \\int_{t-D_j}^{\\infty}e^{\\frac{-(x-\\mu)^2}{2V(1- f_i - f_j)}}dx\n",
    "\\end{equation}\n",
    "\n",
    "\\begin{equation}\n",
    "L_{--}' = \\frac{1}{T} q_i q_j \\int_{t}^{\\infty}e^{\\frac{-(x-\\mu)^2}{2V(1- f_i - f_j)}}dx\n",
    "\\end{equation}\n",
    "\n",
    "with\n",
    "\n",
    "$p_i' = L_{++}' + L_{+-}'$\n",
    "\n",
    "and\n",
    "\n",
    "$p_j' = L_{++}' + L_{-+}'.$"
   ]
  },
  {
   "cell_type": "markdown",
   "metadata": {},
   "source": [
    "We can then calculate the covariance of genes $i$ and $j$ after selection:\n",
    "\n",
    "$Cov(i,j) = E[(i - p_i'D_i) (j - p_j' D_j)],$\n",
    "\n",
    "where $i$ and $j$ vary over all possible sets of values:\n",
    "\n",
    "$Cov(i,j) = L_{++}' ((D_i - p_i'D_i)(D_j - p_j' D_j)) + \n",
    "            L_{+-}' ((D_i - p_i'D_i)(0 - p_j' D_j)) + \n",
    "            L_{-+}' ((0 - p_i'D_i)(D_j - p_j' D_j)) +\n",
    "            L_{--}' ((0 - p_i'D_i)(0 - p_j' D_j))$\n",
    "            \n",
    "$Cov(i,j) = D_i D_j [L_{++}' q_i' q_j'\n",
    "                     - L_{+-}' q_i' p_j'\n",
    "                     - L_{-+}' p_i' q_j'\n",
    "                     + L_{--}' p_i' p_j']$\n",
    "                     \n",
    "With some algebra, we can simplify this to:\n",
    "\n",
    "$Cov(i,j) = D_i D_j [L_{++}' L_{--}' - L_{-+}' L_{+-}']$"
   ]
  },
  {
   "cell_type": "code",
   "execution_count": 17,
   "metadata": {
    "collapsed": false
   },
   "outputs": [],
   "source": [
    "def refine_threshold_pair(p_i, p_j, f_i, f_j, frac_lost, V=1, mu=0, epsilon=1e-15):\n",
    "    rv = stats.norm(loc=mu, scale=V * (1 - f_i - f_j))\n",
    "    t = rv.ppf(frac_lost)\n",
    "\n",
    "    D_i = np.sqrt((V * f_i) / (p_i * (1 - p_i)))\n",
    "    D_j = np.sqrt((V * f_j) / (p_j * (1 - p_j)))\n",
    "    \n",
    "    def calc_fracs(t):\n",
    "        a = (1 - p_i) * (1 - p_j) * rv.sf(t)\n",
    "        b = p_i * (1 - p_j) * rv.sf(t - D_i)\n",
    "        c = (1 - p_i) * p_j * rv.sf(t - D_j)\n",
    "        d = p_i * p_j * rv.sf(t - D_i - D_j)\n",
    "        return a, b, c, d\n",
    "    \n",
    "    if t < 0:\n",
    "        upper, lower = 0.0, 2 * t\n",
    "    elif t > 0:\n",
    "        upper, lower = 2 * t, 0.0\n",
    "    else:\n",
    "        upper, lower = 0.1, -0.1\n",
    "    \n",
    "    while sum(calc_fracs(lower)) - sum(calc_fracs(upper)) > epsilon:\n",
    "        mid = (upper + lower) / 2\n",
    "        #print 'mid ', sum(calc_fracs(mid))\n",
    "        if sum(calc_fracs(mid)) <= 1 - frac_lost:\n",
    "            upper = mid\n",
    "        else:\n",
    "            lower = mid\n",
    "    return mid  \n",
    "\n",
    "def calc_covariance(p_i, p_j, f_i, f_j, frac_lost, mu=0, V=1):\n",
    "    rv = stats.norm(loc=mu, scale=(1 - f_i - f_j) * V)\n",
    "\n",
    "    t = refine_threshold_pair(p_i, p_j, f_i, f_j, frac_lost, V, mu)\n",
    "    # print 't: ', t\n",
    "    \n",
    "    D_i = np.sqrt((V * f_i) / (p_i * (1 - p_i)))\n",
    "    D_j = np.sqrt((V * f_j) / (p_j * (1 - p_j)))\n",
    "    \n",
    "    L_nn = (1 - p_i) * (1 - p_j) * rv.sf(t) / (1 - frac_lost)\n",
    "    L_pn = p_i * (1 - p_j) * rv.sf(t - D_i) / (1 - frac_lost)\n",
    "    L_np = (1 - p_i) * p_j * rv.sf(t - D_j) / (1 - frac_lost)\n",
    "    L_pp = p_i * p_j * rv.sf(t - D_i - D_j) / (1 - frac_lost)\n",
    "    \n",
    "    #These probabilities should sum to 1 if we've normalized correctly\n",
    "    assert abs((L_nn + L_pn + L_np + L_pp) - 1) < 1e-6\n",
    "    \n",
    "    # print 'Var: ', (L_pp + L_pn) * (L_np + L_nn) * D_i**2 + (L_pp + L_np) * (L_pn * L_nn) * D_j**2\n",
    "    \n",
    "    return D_i * D_j * (L_pp * L_nn - L_np * L_pn)"
   ]
  },
  {
   "cell_type": "markdown",
   "metadata": {},
   "source": [
    "This covariance is always negative, so it produces a total variance that is less than that expected in the absence of disequilibrium.  The total reduction in variance can be estimated from adding up the contribution from all pairs of genes.  For 500 identical genes with prevalence 0.5 and heritability 0.5, we have total variance reduction for removal of the bottom 10%:"
   ]
  },
  {
   "cell_type": "code",
   "execution_count": 37,
   "metadata": {
    "collapsed": false
   },
   "outputs": [
    {
     "name": "stdout",
     "output_type": "stream",
     "text": [
      "0.0632455532034\n",
      "500.0 alleles, heritability 0.5, per-allele prevalence 0.5\n",
      "\n",
      "Initial variance: 1.0\n",
      "Covariance for a single pair: -2.88711055668e-07\n",
      "Covariance over all pairs: -0.0360167041946\n",
      "Variance after 1 round of selection: 0.963983295805\n"
     ]
    }
   ],
   "source": [
    "V = 1.0\n",
    "mu = 0.0\n",
    "h2 = 0.5\n",
    "\n",
    "N = 500\n",
    "f = h2 / N\n",
    "\n",
    "p = 0.5\n",
    "D = np.sqrt((V * f) / (p * (1 - p)))\n",
    "\n",
    "N = h2 / f\n",
    "\n",
    "print('{N} alleles, heritability {h2}, per-allele prevalence {p}\\n'.format(**locals()))\n",
    "\n",
    "cov = calc_covariance(p, p, f, f, frac_lost=0.1, mu=mu, V=V)\n",
    "print 'Initial variance: {}'.format(V)\n",
    "print 'Covariance for a single pair: {}'.format(cov)\n",
    "print 'Covariance over all pairs: {}'.format(cov * N * (N-1) / 2)\n",
    "print 'Variance after 1 round of selection: {}'.format(V + cov * N * (N-1) / 2)"
   ]
  },
  {
   "cell_type": "code",
   "execution_count": 36,
   "metadata": {
    "collapsed": false
   },
   "outputs": [
    {
     "name": "stdout",
     "output_type": "stream",
     "text": [
      "10000.0 alleles, heritability 0.9, per-allele prevalence 0.99\n",
      "\n",
      "Initial variance: 1.0\n",
      "Covariance for a single pair: -3.65624693129e-09\n",
      "Covariance over all pairs: -0.18279406533\n",
      "Variance after 1 round of selection: 0.81720593467\n"
     ]
    }
   ],
   "source": [
    "V = 1.0\n",
    "mu = 0.0\n",
    "h2 = 0.9\n",
    "\n",
    "N = 10000\n",
    "f = h2 / N\n",
    "\n",
    "p = 0.99\n",
    "D = np.sqrt((V * f) / (p * (1 - p)))\n",
    "\n",
    "N = h2 / f\n",
    "\n",
    "print('{N} alleles, heritability {h2}, per-allele prevalence {p}\\n'.format(**locals()))\n",
    "\n",
    "cov = calc_covariance(p, p, f, f, frac_lost=0.25, mu=mu, V=V)\n",
    "print 'Initial variance: {}'.format(V)\n",
    "print 'Covariance for a single pair: {}'.format(cov)\n",
    "print 'Covariance over all pairs: {}'.format(cov * N * (N-1) / 2)\n",
    "print 'Variance after 1 round of selection: {}'.format(V + cov * N * (N-1) / 2)"
   ]
  },
  {
   "cell_type": "markdown",
   "metadata": {},
   "source": [
    "### References\n",
    "\n",
    "1. Lande, R. and Arnold, S.J.  The Measurement of Selection on Correlated Characters.  Evolution, Vol. 37, No. 6 (Nov 1983).  1210-1226.\n",
    "\n",
    "1. Falconer, D.S. and Mackay, T.F.C. Introduction to Quantitative Genetics.  4th Edition.  1996.\n",
    "\n",
    "1. Bulmer, M.G.  The Effect of Selection on Genetic Variability.  The American Naturalist, Vol. 105, No. 943 (May-June 1971).  201-211.\n",
    "\n",
    "1. Harpending, H. and Cochran, G.  Assortative Mating, Class, and Caste.  pre-print, Dec 2013."
   ]
  }
 ],
 "metadata": {
  "kernelspec": {
   "display_name": "Python 2",
   "language": "python",
   "name": "python2"
  },
  "language_info": {
   "codemirror_mode": {
    "name": "ipython",
    "version": 2
   },
   "file_extension": ".py",
   "mimetype": "text/x-python",
   "name": "python",
   "nbconvert_exporter": "python",
   "pygments_lexer": "ipython2",
   "version": "2.7.10"
  }
 },
 "nbformat": 4,
 "nbformat_minor": 0
}
