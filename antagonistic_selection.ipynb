{
 "cells": [
  {
   "cell_type": "markdown",
   "metadata": {},
   "source": [
    "### Sexually antagonistic selection for homosexuality\n",
    "#### A model and simulation analysis\n",
    "#### Brett N. Olsen\n",
    "\n",
    "Exclusive homosexual behavior in men is somewhat puzzling from an evolutionary standpoint:  gay men have significantly fewer biological children than straight men, suggesting that there should be a strong selection against any genetic component of homosexuality.  However, the relatively high prevalence of homosexuality (~3-5%) suggests that if genetic, it has not been strongly selected against.\n",
    "\n",
    "One commonly proposed explanation for this is sexually antagonistic selection where decreased fertility in gay men is compensated by increased fertility in their female relatives.  Here I will propose a simple model for mating within the population and identify the constraints within which a sexually antagonistic model is viable.\n",
    "\n",
    "---\n",
    "\n",
    "Let's build a population model:  We will assume a fixed size population which is half female and half male.  Mating within this population is done in a two-phase process.  In the first phase, females randomly choose, with replacement, a male to father their children.  In the second phase, females produce children with their chosen father with some fixed fertility.\n",
    "\n",
    "Male homosexuality is controlled by a single dominant allele with prevalence $p$ in the total population that is in Hardy-Weinberg equilibrium. The effect on carriers is two-fold:\n",
    "\n",
    "1. In men, carrier status manifests as a reduction in their chance to be chosen as a mating parter, defined by a parameter $g$ which is the relative chance of a carrier to be chosen relative to a non-carrier. (E.g., $g=0.6$ means that carriers are 40% less \n",
    "likely to be chosen.)\n",
    "\n",
    "2. In women, carrier status manifests as an increase in their fertility, defined by a parameter $f$.  (E.g., $f=1.2$ means that carriers produce 20% more children than non-carriers).\n",
    "\n",
    "We wish to know for some prevalence $p$ and mating effect $g$, what fertility effect $f$ would be required in order to sustain the allele in the population (e.g., have a zero selective effect)."
   ]
  },
  {
   "cell_type": "markdown",
   "metadata": {},
   "source": [
    "In Hardy-Weinberg equilibrium, the fraction of carriers in both the male and female populations is\n",
    "$$c = p(2-p).$$\n",
    "If the population size is fixed and the number of men and women are equal, the mean number of children per man and per woman must be exactly 1.  In the absence of the allele, this suggests that on average each man has a $\\frac{1}{M}$ chance of being chosen by each woman, where $M$ is the size of the male population.  That is, it is the ratio of an individual's mating fitness (normalized to 1) to the overall mating fitness in the male population ($M$).\n",
    "\n",
    "With carriers present, there are $cM$ total male carriers, each with normalized fitness of $g$, and $(1-c)M$ non-carriers, each with normalized fitness of $1$.  So the overal mating fitness in the male population is $cMg + (1-c)M$.  Therefore, the per-female chance of a carrier mating is\n",
    "$$\\frac{g}{cMg + (1-c)M}$$\n",
    "and the chance of a non-carrier mating is \n",
    "$$\\frac{1}{cMg + (1 - c)M}.$$\n",
    "Normalized over the total female population, which we assume is equal to $M$, the total number of matings for men is\n",
    "$$m_{carriers} = \\frac{g}{1 - c(1 - g)}$$\n",
    "and\n",
    "$$m_{non-carriers} = \\frac{1}{1 - c(1 - g)}.$$"
   ]
  },
  {
   "cell_type": "markdown",
   "metadata": {},
   "source": [
    "To work out the allele frequency $p'$ in the next generation, let's start by assuming that $p$ is low enough that we can neglect homozygotic carriers in our analysis. The relative number of children from each type of mating (with the constant factor of $1/(1 - c(1-g))$ removed) is:\n",
    "\n",
    "<table>\n",
    "    <tr>\n",
    "        <th></th>\n",
    "        <th>gg</th>\n",
    "        <th>gG</th>\n",
    "    </tr>\n",
    "    <tr>\n",
    "        <th>gg</th>\n",
    "        <td>$(1-p)^4$</td>\n",
    "        <td>$p(1-p)^3 g$</td>\n",
    "    </tr>\n",
    "    <tr>\n",
    "        <th>gG</th>\n",
    "        <td>$p(1-p)^3 f$</td>\n",
    "        <td>$p^2 (1-p)^2 fg$</td>\n",
    "    </tr>\n",
    "</table>\n",
    "\n",
    "This gives us the new allele frequency, after weighting by allele frequency in each subpopulation of:\n",
    "\n",
    "$$p' = \\frac{\\frac{1}{2} p (1 - p) (g + f) + p^2 f g}\n",
    "            {(1-p)^2 + p(1-p)(g + f) + p^2 f g }$$\n",
    "            \n",
    "The change in allele frequency is simply\n",
    "\n",
    "$$\\Delta p = p' - p.$$\n",
    "\n",
    "If we set $\\Delta p = 0$, that gives us the relation\n",
    "$$\\frac{1}{2} p (1 - p) (g + f) + p^2 f g = p(1-p)^2 + p^2(1-p)(g + f) + p^3 f g$$\n",
    "\n",
    "Solving for $f$ in terms of $p$ and $g$, we find the increased female fertility necessary to sustain the carrier allele with a particular negative effect in male mating:\n",
    "\n",
    "$$f = \\frac{2p(g - 1) + 2 - g}\n",
    "           {2p(g - 1) + 1}.$$"
   ]
  },
  {
   "cell_type": "markdown",
   "metadata": {},
   "source": [
    "For small values of $p$, we can neglect the first terms, giving an approximation of\n",
    "$$f \\approx 1 + (1 - g).$$\n",
    "In other words, a carrier allele that reduces male mating success by some factor $(1 - g)$ must increase female fertility by the same amount (plus a little bit more) in order to remain stable within the population."
   ]
  }
 ],
 "metadata": {
  "kernelspec": {
   "display_name": "Python 2",
   "language": "python",
   "name": "python2"
  },
  "language_info": {
   "codemirror_mode": {
    "name": "ipython",
    "version": 2
   },
   "file_extension": ".py",
   "mimetype": "text/x-python",
   "name": "python",
   "nbconvert_exporter": "python",
   "pygments_lexer": "ipython2",
   "version": "2.7.14"
  }
 },
 "nbformat": 4,
 "nbformat_minor": 1
}
